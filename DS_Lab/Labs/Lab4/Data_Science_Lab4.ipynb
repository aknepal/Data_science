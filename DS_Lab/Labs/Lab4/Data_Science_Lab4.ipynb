{
  "nbformat": 4,
  "nbformat_minor": 0,
  "metadata": {
    "colab": {
      "provenance": []
    },
    "kernelspec": {
      "name": "python3",
      "display_name": "Python 3"
    },
    "language_info": {
      "name": "python"
    }
  },
  "cells": [
    {
      "cell_type": "markdown",
      "source": [
        "# **Hypothesis Testing**"
      ],
      "metadata": {
        "id": "UwUc8pZyjAEE"
      }
    },
    {
      "cell_type": "code",
      "source": [
        "import numpy as np\n",
        "import pandas as pd\n",
        "from scipy import stats"
      ],
      "metadata": {
        "id": "2qxIK6sy9GgV"
      },
      "execution_count": 1,
      "outputs": []
    },
    {
      "cell_type": "markdown",
      "source": [
        "# **Z test with one mean**\n",
        "Suppose an e-commerce platform receives an average of 100 visitors per day (known population mean). We want to test if the average number of visitors for a recent sample of 40 days is significantly different from this known average. Verify the claim at significance level alpha = 0.05."
      ],
      "metadata": {
        "id": "MGgcNJnVF0Rz"
      }
    },
    {
      "cell_type": "code",
      "source": [
        "# Given data\n",
        "pop_mean = 100\n",
        "pop_sd = 15\n",
        "visitors = [\n",
        "    117, 119, 132, 106, 106, 133, 121, 102, 118, 103, 103, 113, 81, 84, 101, 94, 114, 96, 88, 131, 106, 111, 88, 101, 111, 92, 115, 100, 105, 100, 137, 109, 94, 122, 91, 113, 80, 90, 112\n",
        "]\n",
        "\n",
        "# Calculate sample mean and size\n",
        "sample_mean = np.mean(visitors)\n",
        "sample_size = len(visitors)\n",
        "\n",
        "# Calculate Z-score\n",
        "z_score_calculated = (sample_mean - pop_mean) / (pop_sd / np.sqrt(sample_size))\n",
        "\n",
        "# Find the critical Z-value for a two-tailed test at alpha = 0.05 using scipy\n",
        "alpha = 0.05\n",
        "z_critical = stats.norm.ppf(1 - alpha / 2)\n",
        "\n",
        "# Print results\n",
        "print(f\"Calculated Z-Score: {z_score_calculated:.3f}\")\n",
        "print(f\"Critical Z-Value: ±{z_critical:.3f}\")\n",
        "\n",
        "# Compare and conclude\n",
        "if z_score_calculated > z_critical or z_score_calculated < -z_critical:\n",
        "    print(\"Conclusion: Reject the null hypothesis. The sample mean is significantly different from the population mean.\")\n",
        "else:\n",
        "    print(\"Conclusion: Fail to reject the null hypothesis. The sample mean is not significantly different from the population mean.\")\n"
      ],
      "metadata": {
        "colab": {
          "base_uri": "https://localhost:8080/"
        },
        "id": "4Ebo5qaq9n3K",
        "outputId": "b019b243-4135-4222-82e8-55d663ef44a6"
      },
      "execution_count": 2,
      "outputs": [
        {
          "output_type": "stream",
          "name": "stdout",
          "text": [
            "Calculated Z-Score: 2.551\n",
            "Critical Z-Value: ±1.960\n",
            "Conclusion: Reject the null hypothesis. The sample mean is significantly different from the population mean.\n"
          ]
        }
      ]
    },
    {
      "cell_type": "code",
      "source": [
        "# Define significance level\n",
        "alpha = 0.05\n",
        "\n",
        "# Z-critical value for a right-tailed test\n",
        "z_critical_right = stats.norm.ppf(1 - alpha)\n",
        "\n",
        "# Z-critical value for a left-tailed test\n",
        "z_critical_left = stats.norm.ppf(alpha)\n",
        "\n",
        "# Z-critical value for a two-tailed test\n",
        "z_critical_two = stats.norm.ppf(1 - alpha / 2)\n",
        "\n",
        "# Display results\n",
        "print(f\"Z-Critical (Right-Tailed Test) for alpha={alpha}: {z_critical_right:.3f}\")\n",
        "print(f\"Z-Critical (Left-Tailed Test) for alpha={alpha}: {z_critical_left:.3f}\")\n",
        "print(f\"Z-Critical (Two-Tailed Test) for alpha={alpha}: {z_critical_two:.3f}\")"
      ],
      "metadata": {
        "colab": {
          "base_uri": "https://localhost:8080/"
        },
        "id": "1h3HNk53CNxc",
        "outputId": "fbb6f05c-5afa-4889-ba88-0fec03f64c73"
      },
      "execution_count": 5,
      "outputs": [
        {
          "output_type": "stream",
          "name": "stdout",
          "text": [
            "Z-Critical (Right-Tailed Test) for alpha=0.05: 1.645\n",
            "Z-Critical (Left-Tailed Test) for alpha=0.05: -1.645\n",
            "Z-Critical (Two-Tailed Test) for alpha=0.05: 1.960\n"
          ]
        }
      ]
    },
    {
      "cell_type": "code",
      "source": [
        "z_score = 1.96  # Z-score (for example, for a 95% confidence interval)\n",
        "\n",
        "# Calculate the cumulative probability (CDF)\n",
        "probability = stats.norm.cdf(z_score)\n",
        "\n",
        "# Print the result\n",
        "print(f\"The probability for Z = {z_score} is: {probability}\")"
      ],
      "metadata": {
        "colab": {
          "base_uri": "https://localhost:8080/"
        },
        "id": "JqYIksGSCwa_",
        "outputId": "be2dd0a4-ac51-4dca-bb34-1ac9d25c90e9"
      },
      "execution_count": 6,
      "outputs": [
        {
          "output_type": "stream",
          "name": "stdout",
          "text": [
            "The probability for Z = 1.96 is: 0.9750021048517795\n"
          ]
        }
      ]
    },
    {
      "cell_type": "markdown",
      "source": [
        "# **Z-test with two Mean**"
      ],
      "metadata": {
        "id": "4SIFSu-SJmEa"
      }
    },
    {
      "cell_type": "code",
      "source": [
        "campaign1_data = [157, 147, 159, 172, 146, 146, 173, 161, 142, 158, 143, 143, 153, 121, 124, 141, 134, 154, 136, 128, 171, 146, 151, 128, 141, 151, 132, 155, 146, 145, 148, 177, 149, 134, 162]\n",
        "\n",
        "campaign2_data = [178, 167, 181, 195, 166, 166, 196, 183, 162, 179, 162, 162, 174, 137, 148, 168, 152, 175, 154, 145, 194, 166, 171, 145, 168, 171, 158, 176, 159, 165, 159, 281, 169, 152, 183]\n",
        "\n",
        "camp1_mean = np.mean(campaign1_data)\n",
        "camp1_std = np.std(campaign1_data)\n",
        "n1 = len(campaign1_data)\n",
        "\n",
        "camp2_mean = np.mean(campaign2_data)\n",
        "camp2_std = np.std(campaign2_data)\n",
        "n2 = len(campaign2_data)\n",
        "\n",
        "z_score_calculated = (camp1_mean - camp2_mean) / np.sqrt(((camp1_std ** 2) / n1) + ((camp2_std ** 2) / n2))\n",
        "\n",
        "alpha = 0.05\n",
        "\n",
        "z_critical = stats.norm.ppf(1 - alpha / 2)\n",
        "\n",
        "# Display results\n",
        "print(f\"Campaign 1 Mean: {camp1_mean}\")\n",
        "print(f\"Campaign 2 Mean: {camp2_mean}\")\n",
        "print(f\"Z-Score: {z_score_calculated}\")\n",
        "print(f\"Critical Z-Value: {z_critical}\")\n",
        "\n",
        "# Conclusion based on comparing Z-score with critical Z-value\n",
        "if z_score_calculated > z_critical or z_score_calculated < -z_critical:\n",
        "    print(\"Reject the null hypothesis: There is a significant difference in the average number of daily visitors between the two campaigns.\")\n",
        "else:\n",
        "    print(\"Fail to reject the null hypothesis: There is no significant difference in the average number of daily visitors between the two campaigns.\")\n"
      ],
      "metadata": {
        "colab": {
          "base_uri": "https://localhost:8080/"
        },
        "id": "LUjZ_MJiG4k0",
        "outputId": "08cf51a3-b9ad-4b0c-9b66-4015e2d19900"
      },
      "execution_count": 9,
      "outputs": [
        {
          "output_type": "stream",
          "name": "stdout",
          "text": [
            "Campaign 1 Mean: 147.82857142857142\n",
            "Campaign 2 Mean: 170.4857142857143\n",
            "Z-Score: -4.9425885015566635\n",
            "Critical Z-Value: 1.959963984540054\n",
            "Reject the null hypothesis: There is a significant difference in the average number of daily visitors between the two campaigns.\n"
          ]
        }
      ]
    },
    {
      "cell_type": "markdown",
      "source": [
        "# **T-test with single mean**\n",
        " An eComm platform believes that the average number of daily visitors is 150. Test if the average number of visitors for a sample of 20 days is significantly different from this value."
      ],
      "metadata": {
        "id": "4Qn6adN_J6h2"
      }
    },
    {
      "cell_type": "code",
      "source": [
        "# Number of visitors for 20 days\n",
        "visitors = [\n",
        "    157, 147, 159, 172, 146, 146, 173, 161, 142, 158, 143, 143, 153, 121, 124, 141, 134, 154, 136, 128\n",
        "]\n",
        "\n",
        "pop_mean = 150\n",
        "\n",
        "sample_mean = np.mean(visitors)\n",
        "sample_std = np.std(visitors, ddof=1)\n",
        "#Here, ddof=1 tells NumPy to use n-1 when calculating the standard deviation, which is necessary for sample data. We use ddof =0 for polulation standard deviation.\n",
        "n = len(visitors)\n",
        "\n",
        "df = n - 1\n",
        "\n",
        "# T-Statistic calculation (already computed by stats.ttest_1samp)\n",
        "t_calc, _ = stats.ttest_1samp(visitors, popmean=pop_mean)\n",
        "\n",
        "#Note: In Python, when a function returns multiple values and you are not interested in all of them, you can use _ to ignore the values that you don’t need. It is a convention to indicate that the value is deliberately being discarded.\n",
        "\n",
        "alpha = 0.05\n",
        "t_critical = stats.t.ppf(1 - alpha / 2, df)\n",
        "\n",
        "print(f\"Sample Mean: {sample_mean}\")\n",
        "print(f\"Sample Standard Deviation: {sample_std}\")\n",
        "print(f\"T-Statistic: {t_calc}\")\n",
        "print(f\"Critical T-Value: {t_critical}\")\n",
        "\n",
        "# Conclusion based on comparing T-statistic with critical T-value\n",
        "if abs(t_calc) > t_critical:\n",
        "    print(\"Reject the null hypothesis: The sample mean is significantly different from the population mean.\")\n",
        "else:\n",
        "    print(\"Fail to reject the null hypothesis: There is no significant difference between the sample mean and the population mean.\")\n"
      ],
      "metadata": {
        "colab": {
          "base_uri": "https://localhost:8080/"
        },
        "id": "RrX7V8ArItRW",
        "outputId": "98c4b1f0-6191-4c4d-cd45-5417543f16df"
      },
      "execution_count": 10,
      "outputs": [
        {
          "output_type": "stream",
          "name": "stdout",
          "text": [
            "Sample Mean: 146.9\n",
            "Sample Standard Deviation: 14.322966467218047\n",
            "T-Statistic: -0.9679294783122818\n",
            "Critical T-Value: 2.093024054408263\n",
            "Fail to reject the null hypothesis: There is no significant difference between the sample mean and the population mean.\n"
          ]
        }
      ]
    },
    {
      "cell_type": "markdown",
      "source": [
        "# **T test with Two Sample Mean**"
      ],
      "metadata": {
        "id": "SfLGm4X5PO2l"
      }
    },
    {
      "cell_type": "code",
      "source": [
        "# Data\n",
        "data = {\n",
        "    'Gender': ['Female', 'Male', 'Female', 'Female', 'Male', 'Male', 'Male', 'Male', 'Female', 'Female', 'Male', 'Male',\n",
        "               'Female', 'Male', 'Female', 'Female', 'Female', 'Male', 'Male', 'Female', 'Female', 'Male', 'Male', 'Male',\n",
        "               'Male', 'Female', 'Female', 'Male', 'Male', 'Male', 'Female', 'Female', 'Female', 'Female', 'Female',\n",
        "               'Male', 'Male', 'Female', 'Female', 'Male'],\n",
        "    'Marks': [77, 89, 89, 91, 76, 85, 79, 78, 93, 88, 91, 77, 81, 88, 86, 80, 82, 95, 87, 83, 79, 94, 84, 73, 85, 85, 78, 88, 81, 82, 84, 86, 75, 83, 87, 80, 90, 90, 92, 92]\n",
        "}\n",
        "\n",
        "# Create DataFrame\n",
        "df = pd.DataFrame(data)\n",
        "\n",
        "print(df)\n",
        "\n",
        "# Separate the data into two groups\n",
        "male_marks = df[df['Gender'] == 'Male']['Marks']\n",
        "female_marks = df[df['Gender'] == 'Female']['Marks']\n",
        "\n",
        "print(male_marks)\n",
        "print(female_marks)\n",
        "\n",
        "mean_male = male_marks.mean()\n",
        "mean_female = female_marks.mean()\n",
        "\n",
        "std_male = male_marks.std(ddof=1)\n",
        "std_female = female_marks.std(ddof=1)\n",
        "\n",
        "n_male = len(male_marks)\n",
        "n_female = len(female_marks)\n",
        "\n",
        "pooled_variance = ((std_male ** 2) / n_male) + ((std_female ** 2) / n_female)\n",
        "\n",
        "t_statistic = (mean_male - mean_female) / np.sqrt(pooled_variance)\n",
        "\n",
        "df = ((std_male ** 2 / n_male + std_female ** 2 / n_female) ** 2) / \\\n",
        "     ((std_male ** 2 / n_male) ** 2 / (n_male - 1) + (std_female ** 2 / n_female) ** 2 / (n_female - 1))\n",
        "\n",
        "alpha = 0.05\n",
        "\n",
        "t_critical = stats.t.ppf(1 - alpha / 2, df)\n",
        "\n",
        "# Display results\n",
        "print(f\"Male Group Mean: {mean_male}\")\n",
        "print(f\"Female Group Mean: {mean_female}\")\n",
        "print(f\"T-Statistic: {t_statistic}\")\n",
        "print(f\"Degrees of Freedom: {df}\")\n",
        "print(f\"Critical T-Value: {t_critical}\")\n",
        "\n",
        "# Conclusion\n",
        "if abs(t_statistic) > t_critical:\n",
        "    print(\"Reject the null hypothesis: There is a significant difference in the means of Marks for males and females.\")\n",
        "else:\n",
        "    print(\"Fail to reject the null hypothesis: There is no significant difference in the means of Marks for males and females.\")\n"
      ],
      "metadata": {
        "colab": {
          "base_uri": "https://localhost:8080/"
        },
        "id": "EjkaXaHMMip1",
        "outputId": "2ab64a2c-5268-499e-d860-acf06693b9d3"
      },
      "execution_count": 11,
      "outputs": [
        {
          "output_type": "stream",
          "name": "stdout",
          "text": [
            "    Gender  Marks\n",
            "0   Female     77\n",
            "1     Male     89\n",
            "2   Female     89\n",
            "3   Female     91\n",
            "4     Male     76\n",
            "5     Male     85\n",
            "6     Male     79\n",
            "7     Male     78\n",
            "8   Female     93\n",
            "9   Female     88\n",
            "10    Male     91\n",
            "11    Male     77\n",
            "12  Female     81\n",
            "13    Male     88\n",
            "14  Female     86\n",
            "15  Female     80\n",
            "16  Female     82\n",
            "17    Male     95\n",
            "18    Male     87\n",
            "19  Female     83\n",
            "20  Female     79\n",
            "21    Male     94\n",
            "22    Male     84\n",
            "23    Male     73\n",
            "24    Male     85\n",
            "25  Female     85\n",
            "26  Female     78\n",
            "27    Male     88\n",
            "28    Male     81\n",
            "29    Male     82\n",
            "30  Female     84\n",
            "31  Female     86\n",
            "32  Female     75\n",
            "33  Female     83\n",
            "34  Female     87\n",
            "35    Male     80\n",
            "36    Male     90\n",
            "37  Female     90\n",
            "38  Female     92\n",
            "39    Male     92\n",
            "1     89\n",
            "4     76\n",
            "5     85\n",
            "6     79\n",
            "7     78\n",
            "10    91\n",
            "11    77\n",
            "13    88\n",
            "17    95\n",
            "18    87\n",
            "21    94\n",
            "22    84\n",
            "23    73\n",
            "24    85\n",
            "27    88\n",
            "28    81\n",
            "29    82\n",
            "35    80\n",
            "36    90\n",
            "39    92\n",
            "Name: Marks, dtype: int64\n",
            "0     77\n",
            "2     89\n",
            "3     91\n",
            "8     93\n",
            "9     88\n",
            "12    81\n",
            "14    86\n",
            "15    80\n",
            "16    82\n",
            "19    83\n",
            "20    79\n",
            "25    85\n",
            "26    78\n",
            "30    84\n",
            "31    86\n",
            "32    75\n",
            "33    83\n",
            "34    87\n",
            "37    90\n",
            "38    92\n",
            "Name: Marks, dtype: int64\n",
            "Male Group Mean: 84.7\n",
            "Female Group Mean: 84.45\n",
            "T-Statistic: 0.13733874423305972\n",
            "Degrees of Freedom: 36.61108492606419\n",
            "Critical T-Value: 2.0269192513782666\n",
            "Fail to reject the null hypothesis: There is no significant difference in the means of Marks for males and females.\n"
          ]
        }
      ]
    },
    {
      "cell_type": "markdown",
      "source": [
        "# **F test**"
      ],
      "metadata": {
        "id": "25fnHnNPUtit"
      }
    },
    {
      "cell_type": "code",
      "source": [
        "import pandas as pd\n",
        "from scipy.stats import f, f_oneway\n",
        "\n",
        "data = {\n",
        "    \"Shipping Option\": [\"Standard\", \"Express\", \"Same-Day\", \"Standard\", \"Express\", \"Same-Day\",\"Standard\", \"Express\", \"Same-Day\"],\n",
        "    \"Purchase Amounts\": [50, 70, 90, 55, 75, 85, 60, 80, 95]\n",
        "}\n",
        "\n",
        "df = pd.DataFrame(data)\n",
        "\n",
        "standard_shipping = df[df[\"Shipping Option\"] == \"Standard\"][\"Purchase Amounts\"]\n",
        "express_shipping = df[df[\"Shipping Option\"] == \"Express\"][\"Purchase Amounts\"]\n",
        "same_day_shipping = df[df[\"Shipping Option\"] == \"Same-Day\"][\"Purchase Amounts\"]\n",
        "\n",
        "\n",
        "t = 3\n",
        "\n",
        "\n",
        "n = len(df)\n",
        "\n",
        "df_between = t - 1  # Degrees of freedom between groups\n",
        "df_within = n - t  # Degrees of freedom within groups\n",
        "\n",
        "f_statistic, _ = f_oneway(standard_shipping, express_shipping, same_day_shipping)\n",
        "\n",
        "\n",
        "alpha = 0.05\n",
        "\n",
        "f_critical = stats.f.ppf(1 - alpha, df_between, df_within)\n",
        "\n",
        "# Display the F-statistic and F-critical value\n",
        "print(f\"F-Statistic: {f_statistic}\")\n",
        "print(f\"F-Critical Value: {f_critical}\")\n",
        "\n",
        "# Conclusion\n",
        "if f_statistic > f_critical:\n",
        "    print(\"Reject the null hypothesis: There are significant differences between the group means.\")\n",
        "else:\n",
        "    print(\"Fail to reject the null hypothesis: There are no significant differences between the group means.\")\n"
      ],
      "metadata": {
        "colab": {
          "base_uri": "https://localhost:8080/"
        },
        "id": "xiQkPkypOHig",
        "outputId": "24e4d88b-e845-424f-9a7d-18d4576fa3c5"
      },
      "execution_count": null,
      "outputs": [
        {
          "output_type": "stream",
          "name": "stdout",
          "text": [
            "F-Statistic: 37.00000000000006\n",
            "F-Critical Value: 5.143252849784718\n",
            "Reject the null hypothesis: There are significant differences between the group means.\n"
          ]
        }
      ]
    },
    {
      "cell_type": "code",
      "source": [],
      "metadata": {
        "id": "gcS6v_HhVyi_"
      },
      "execution_count": null,
      "outputs": []
    }
  ]
}